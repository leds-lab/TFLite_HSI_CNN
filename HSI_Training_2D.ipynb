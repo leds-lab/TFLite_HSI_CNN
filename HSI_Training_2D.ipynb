{
  "cells": [
    {
      "cell_type": "markdown",
      "metadata": {
        "id": "uMxVRrcgMMgR"
      },
      "source": [
        "# Initialization"
      ]
    },
    {
      "cell_type": "markdown",
      "source": [
        "## Drive Mount"
      ],
      "metadata": {
        "id": "wlxgny0z5kUX"
      }
    },
    {
      "cell_type": "code",
      "source": [
        "#Google Drive + Colab\n",
        "from google.colab import drive\n",
        "drive.mount('/content/drive/')"
      ],
      "metadata": {
        "colab": {
          "base_uri": "https://localhost:8080/"
        },
        "id": "YaCdZclk5iIp",
        "outputId": "24c6dc6b-975a-491e-9ce1-4ae3224d4b66"
      },
      "execution_count": null,
      "outputs": [
        {
          "output_type": "stream",
          "name": "stdout",
          "text": [
            "Mounted at /content/drive/\n"
          ]
        }
      ]
    },
    {
      "cell_type": "markdown",
      "source": [
        "## Libs"
      ],
      "metadata": {
        "id": "4kFMM1F9Oupe"
      }
    },
    {
      "cell_type": "code",
      "execution_count": null,
      "metadata": {
        "id": "bWx9VzUBMcOc"
      },
      "outputs": [],
      "source": [
        "#Bibliotecas\n",
        "#https://ieeexplore.ieee.org/document/10064297\n",
        "#Numpy\n",
        "import numpy as np\n",
        "#Mayplotlib\n",
        "import matplotlib.pyplot as plt\n",
        "#Operating System\n",
        "import os as os\n",
        "#System\n",
        "import sys\n",
        "#Scipy\n",
        "import scipy.io as sio\n",
        "#Pandas\n",
        "import pandas as pd\n",
        "#TensorFlow\n",
        "import tensorflow as tf\n",
        "#Sklearn\n",
        "from sklearn.model_selection import train_test_split\n",
        "from sklearn.preprocessing import LabelEncoder\n",
        "from sklearn.decomposition import PCA\n",
        "#Keras\n",
        "from keras.utils import np_utils\n",
        "from keras.optimizers import Adam\n",
        "#Libs for CNN Modelling\n",
        "import time\n",
        "import keras\n",
        "from keras.models import Sequential\n",
        "from keras.layers import Input\n",
        "from keras.layers import Dense\n",
        "from keras.layers import Flatten\n",
        "from keras.layers import Dropout\n",
        "from keras.layers.convolutional import Conv1D\n",
        "from sklearn.metrics import classification_report\n",
        "from keras.callbacks import EarlyStopping\n",
        "from keras.layers.convolutional import Conv2D"
      ]
    },
    {
      "cell_type": "markdown",
      "source": [
        "## GPU"
      ],
      "metadata": {
        "id": "sTVt4Q5jOxn5"
      }
    },
    {
      "cell_type": "code",
      "execution_count": null,
      "metadata": {
        "colab": {
          "base_uri": "https://localhost:8080/"
        },
        "id": "t58faQVjNUR8",
        "outputId": "d872365b-3fe4-4e32-d629-4ae31b52b85e"
      },
      "outputs": [
        {
          "output_type": "stream",
          "name": "stdout",
          "text": [
            "Python 3.10.12\n",
            "GPU 0: Tesla T4 \n",
            "\n",
            "/bin/bash: -c: line 0: unexpected EOF while looking for matching `''\n",
            "/bin/bash: -c: line 1: syntax error: unexpected end of file\n"
          ]
        }
      ],
      "source": [
        "# Find out NVIDIA GPU model (randomly assigned by Colab)\n",
        "# Deep learning performance: K80 < P4 < T4 < P100\n",
        "# https://ai-benchmark.com/ranking_deeplearning.html\n",
        "!python -V\n",
        "gpu = !nvidia-smi -L\n",
        "gpu = gpu[0].split(' (')[0]\n",
        "if 'failed' in gpu:\n",
        "  print('GPU: None')\n",
        "else:\n",
        "  print(gpu, '\\n')\n",
        "  # GPU information\n",
        "  !nvidia-smi'"
      ]
    },
    {
      "cell_type": "markdown",
      "metadata": {
        "id": "GqdoTsuuj-qt"
      },
      "source": [
        "# Global"
      ]
    },
    {
      "cell_type": "code",
      "execution_count": null,
      "metadata": {
        "id": "BgJKWPBlSSgX"
      },
      "outputs": [],
      "source": [
        "#Variáveis Globais\n",
        "\n",
        "#Qual o diretório principal?\n",
        "dataRoot = 'drive/MyDrive/Colab Notebooks/HSI_CNN'\n",
        "#Qual o diretório de dados\n",
        "dataDir = dataRoot+'/Data/HSI'\n",
        "\n",
        "#Qual o dataset a ser usado\n",
        "##IP -- Indian Pines\n",
        "##SA -- Salinas\n",
        "##PU -- PaviaU\n",
        "dataset = 'PU'\n",
        "\n",
        "#Normalizar dados?\n",
        "normalizeData = False\n",
        "\n",
        "#Nome do Modelo\n",
        "TF_MODEL = dataset + \"_CNN\"\n",
        "TF_MODEL_TFL = dataset + \"_CNN.tflite\"\n",
        "TF_MODEL_C = dataset + \"_CNN.h\"\n",
        "\n",
        "#Quantidade de dados que devem ser colocados no treino\n",
        "test_ratio = 0.15 #0.3\n",
        "#Parte da base de teste que vai para validação\n",
        "valid_ratio = 0.5 #0.2\n"
      ]
    },
    {
      "cell_type": "markdown",
      "source": [
        "# Data Prep"
      ],
      "metadata": {
        "id": "EA1wYh0RUnpc"
      }
    },
    {
      "cell_type": "markdown",
      "source": [
        "## Load"
      ],
      "metadata": {
        "id": "MVM-LEv4156Y"
      }
    },
    {
      "cell_type": "code",
      "source": [
        "def loadData(input_str):\n",
        "  \"\"\"\n",
        "    Retorna uma base de dados com suas labels\n",
        "\n",
        "    Argumentos:\n",
        "    input_str -- O nome do dataset a ser considerado podendo ser:\n",
        "      IP -- Indian Pines\n",
        "      SA -- Salinas\n",
        "      PU -- PaviaU\n",
        "\n",
        "    Retorno:\n",
        "    (data, labels)\n",
        "  \"\"\"\n",
        "  data_path = os.path.join(os.getcwd(),dataDir)\n",
        "  if input_str == \"IP\":\n",
        "    data = sio.loadmat(os.path.join(data_path, 'Indian_pines_corrected.mat'))['indian_pines_corrected']\n",
        "    labels = sio.loadmat(os.path.join(data_path, 'Indian_pines_gt.mat'))['indian_pines_gt']\n",
        "  elif input_str == \"SA\":\n",
        "    data = sio.loadmat(os.path.join(data_path, 'Salinas_corrected.mat'))['salinas_corrected']\n",
        "    labels = sio.loadmat(os.path.join(data_path, 'Salinas_gt.mat'))['salinas_gt']\n",
        "  elif input_str == \"PU\":\n",
        "      data = sio.loadmat(os.path.join(data_path, 'PaviaU.mat'))['paviaU']\n",
        "      labels = sio.loadmat(os.path.join(data_path, 'PaviaU_gt.mat'))['paviaU_gt']\n",
        "  else:\n",
        "    raise ValueError(\"Entrada inválida. Por favor, insira IP, SA ou PU.\")\n",
        "  return data, labels\n",
        "\n",
        "#Carregando dados em 'X' e labels em 'y'\n",
        "X_load, y_load = loadData(dataset)"
      ],
      "metadata": {
        "id": "5kMupw1b18Mf"
      },
      "execution_count": null,
      "outputs": []
    },
    {
      "cell_type": "code",
      "source": [
        "X_load.shape"
      ],
      "metadata": {
        "colab": {
          "base_uri": "https://localhost:8080/"
        },
        "id": "FNjd-6hkxZOd",
        "outputId": "2dd768d5-2b42-4c0c-d0c8-43a16f0b61d9"
      },
      "execution_count": null,
      "outputs": [
        {
          "output_type": "execute_result",
          "data": {
            "text/plain": [
              "(610, 340, 103)"
            ]
          },
          "metadata": {},
          "execution_count": 27
        }
      ]
    },
    {
      "cell_type": "markdown",
      "metadata": {
        "id": "z2bg8xQrONdG"
      },
      "source": [
        "## Reshape for Pixel"
      ]
    },
    {
      "cell_type": "code",
      "execution_count": null,
      "metadata": {
        "id": "IpCfXpj-OTO8",
        "colab": {
          "base_uri": "https://localhost:8080/"
        },
        "outputId": "fa1a0277-4915-45e3-ad3a-e9189f219401"
      },
      "outputs": [
        {
          "output_type": "stream",
          "name": "stdout",
          "text": [
            "Reshape to create a 1D array of N bands - Trasform to classify by pixels (init):  (145, 145, 200) (145, 145)\n",
            "Reshape to create a 1D array of N bands - Trasform to classify by pixels (reshaped):  (21025, 200) (21025,)\n",
            "Reshape to create a 1D array of N bands - Trasform to classify by pixels (reshaped and filtered):  (10249, 200) (10249,)\n",
            "\n",
            "Sample quantity per class in train dataset:\n",
            " 10    2455\n",
            "1     1428\n",
            "13    1265\n",
            "9      972\n",
            "2      830\n",
            "5      730\n",
            "11     593\n",
            "4      483\n",
            "7      478\n",
            "14     386\n",
            "3      237\n",
            "12     205\n",
            "15      93\n",
            "0       46\n",
            "6       28\n",
            "8       20\n",
            "Name: 0, dtype: int64\n"
          ]
        }
      ],
      "source": [
        "def removeBackground(X, y):\n",
        "  \"\"\"\n",
        "  Remove todas as amostras de \"fundo/background\", ou seja, as amostras com classe==0.\n",
        "  \"\"\"\n",
        "  X, y = X[y>0,:], y[y>0]\n",
        "  y -= 1\n",
        "  return X, y\n",
        "\n",
        "X_re1 = X_load.copy()\n",
        "y_re1 = y_load.copy()\n",
        "\n",
        "#Dando 'reshape' para criar um array 1D com N bandas - Transformação para classificação por pixel\n",
        "X_re2 = X_re1.reshape([X_re1.shape[0]*X_re1.shape[1],X_re1.shape[2]])\n",
        "y_re2 = y_re1.reshape([y_re1.shape[0]*y_re1.shape[1]])\n",
        "\n",
        "#Filtrando(tirando) algumas bandas do dataset\n",
        "X_re, y_new = removeBackground(X_re2,y_re2)\n",
        "\n",
        "print(\"Reshape to create a 1D array of N bands - Trasform to classify by pixels (init): \", X_re1.shape, y_re1.shape)\n",
        "print(\"Reshape to create a 1D array of N bands - Trasform to classify by pixels (reshaped): \", X_re2.shape, y_re2.shape)\n",
        "print(\"Reshape to create a 1D array of N bands - Trasform to classify by pixels (reshaped and filtered): \", X_re.shape, y_new.shape)\n",
        "\n",
        "#Count samples per class\n",
        "print(\"\\nSample quantity per class in train dataset:\\n\", pd.DataFrame(y_new)[0].value_counts())\n",
        "\n",
        "#Aqui poderá ser feito um balanceamento também, caso haja necessidade."
      ]
    },
    {
      "cell_type": "markdown",
      "source": [
        "## Normalize and PCA"
      ],
      "metadata": {
        "id": "MjNEQuFXDnmK"
      }
    },
    {
      "cell_type": "code",
      "source": [
        "#Sequencia ideial:\n",
        "#Normalizar -> PCA -> Quantizar\n",
        "#Obs: Possivelmente a normalização seja problemática devido aos outliers dos dados\n",
        "\n",
        "def applyNormalize(data):\n",
        "  \"\"\"\n",
        "  Aplica o método de Normalização\n",
        "  \"\"\"\n",
        "  # Normalize data\n",
        "  mean = np.mean(data)\n",
        "  std = np.std(data)\n",
        "  normalized_data = (data - mean) / std\n",
        "  print(\"\\nData normalized\")\n",
        "  print(\"Normalized data shape:\", normalized_data.shape, \"\\nExample:\")\n",
        "  print(normalized_data[0])\n",
        "  return normalized_data\n",
        "\n",
        "def applyPCA(X, nBands=75):\n",
        "  \"\"\"\n",
        "  Aplica o método Principal Component Analysis\n",
        "  Reduz a quantidade de bandas para nBands, levando em consideração as mais importantes.\n",
        "  \"\"\"\n",
        "  #Número de bandas em um único pixel\n",
        "  print(\"\\nNumber of bands in a single pixel: \", X.shape[1])\n",
        "  # Create a PCA object with nBands components\n",
        "  model = PCA(n_components=nBands, whiten=True, random_state=42)\n",
        "  # Fit the PCA model to the data\n",
        "  model.fit(X)\n",
        "  # Transform the data using the PCA model\n",
        "  print(\"PCA - Old data shape:\", X.shape, \" - \", X.dtype)\n",
        "  print(X[0])\n",
        "  X_out = model.transform(X)\n",
        "  print(\"\\nPCA - Transformed data shape:\", X_out.shape, \" - \", X_out.dtype)\n",
        "  print(\"Number of bands in a single pixel after PCA: \", X_out.shape[1])\n",
        "  print(\"Example:\")\n",
        "  print(X_out[0])\n",
        "  return X_out, model\n",
        "\n",
        "####Normalize\n",
        "X_norm = X_re.copy()\n",
        "if(normalizeData):\n",
        "  X_norm = applyNormalize(X_norm)\n",
        "else:\n",
        "  print(\"\\nNo normalization\")\n",
        "\n",
        "####PCA\n",
        "#PCA reduz a quantidade de banda (Principal Component Analysis)\n",
        "#Para a base Indian Pines número de bandas será 30 para a restante 15\n",
        "Kb = 30 if dataset == 'IP' else 15\n",
        "X_pca, pca_model = applyPCA(X_norm, nBands=Kb)\n",
        "X_new = X_pca.copy()\n",
        "\n",
        "####Quantize -> Legacy\n",
        "#X_new = applyQuantize_i8(X_new)\n",
        "\n",
        "\n",
        "'''\n",
        "def applyQuantize_i8(X):\n",
        "  def get_int_value(float_value):\n",
        "    k = quant_scale\n",
        "    q = quant_zero_point\n",
        "    return np.round((float_value / k) - q).astype(np.int8)\n",
        "  X[:, :] = np.vectorize(get_int_value)(X[:, :])\n",
        "  X = X.astype(np.int8)\n",
        "  print(\"\\nData quantized\")\n",
        "  print(\"Quantazied data shape:\", X.shape, \"\\nExample:\")\n",
        "  print(X[0])\n",
        "  return X\n",
        "\n",
        "def applyQuantize_i8_2(data):\n",
        "  # Initialize the quantization parameters\n",
        "  quant_min = -128\n",
        "  quant_max = 127\n",
        "  data_qtz = np.empty_like(data, dtype=np.int8)\n",
        "  #\n",
        "  for i in range(data.shape[1]):\n",
        "    data_qtz[:, i] = np.clip(np.round(data[:, i] * quant_max), quant_min, quant_max)\n",
        "  print(\"\\nData quantized\")\n",
        "  print(\"Quantized data shape:\", data_qtz.shape, \"\\nExample:\")\n",
        "  print(data_qtz[0])\n",
        "  return data_qtz\n",
        "\n",
        "def applyQuantize_f16(input_data):\n",
        "  input_data = input_data.astype(np.float16)\n",
        "  return input_data\n",
        "\n",
        "#Quantizar dados?\n",
        "#-> 0   == Não\n",
        "#-> i8  == int8\n",
        "#-> f16 == float16\n",
        "if(quantizeInputData == \"i8\"):\n",
        "  X_new = applyQuantize_i8(X_new)\n",
        "  print(\"Xtype: \", X_new.dtype)\n",
        "elif(quantizeInputData == \"f16\"):\n",
        "  X_new = applyQuantize_f16(X_new)\n",
        "  print(\"Xtype: \", X_new.dtype)\n",
        "else:\n",
        "  print(\"\\nNo X quantization\")\n",
        "  print(\"X dtype: \", X_new.dtype)\n",
        "'''"
      ],
      "metadata": {
        "id": "W-MOPOSQDqUy",
        "colab": {
          "base_uri": "https://localhost:8080/",
          "height": 626
        },
        "outputId": "11de4ffb-b0c0-4920-a57b-bb54ad8b1d30"
      },
      "execution_count": null,
      "outputs": [
        {
          "output_type": "stream",
          "name": "stdout",
          "text": [
            "\n",
            "No normalization\n",
            "\n",
            "Number of bands in a single pixel:  200\n",
            "PCA - Old data shape: (10249, 200)  -  uint16\n",
            "[3172 4142 4506 4279 4782 5048 5213 5106 5053 4750 4816 4769 4610 4805\n",
            " 4828 4861 4767 4624 4549 4463 4462 4446 4445 4336 4381 4319 4207 4305\n",
            " 4311 3991 4168 3942 4061 4362 4318 4252 4869 5284 5055 3591 5175 5217\n",
            " 5058 4969 4721 4291 4555 4886 4868 4806 4783 4811 4709 3903 3795 3715\n",
            " 2591 2130 2269 2480 3145 3626 4060 4296 4211 4225 4157 4133 4082 4048\n",
            " 3935 3843 3784 3642 3271 2707 1707 1564 1838 1719 2229 2764 2919 2873\n",
            " 2977 2913 3034 3051 3124 3101 3033 2713 2740 2947 2706 2834 2856 2683\n",
            " 2400 2229 1822 1542 1097 1047 1069 1100 1122 1259 1365 1261 1374 1630\n",
            " 1851 2028 2130 2170 2205 2214 2204 2100 2106 2146 2089 2078 2134 2127\n",
            " 2074 2057 2045 2003 1999 1959 1924 1883 1843 1781 1716 1698 1645 1540\n",
            " 1410 1294 1131 1044 1032 1045 1100 1212 1295 1244 1100 1103 1216 1346\n",
            " 1330 1259 1251 1313 1372 1393 1402 1396 1381 1396 1381 1353 1346 1341\n",
            " 1332 1324 1310 1318 1330 1310 1292 1280 1275 1266 1264 1233 1241 1232\n",
            " 1215 1215 1187 1168 1171 1150 1134 1123 1135 1094 1090 1112 1090 1062\n",
            " 1069 1057 1020 1020]\n",
            "\n",
            "PCA - Transformed data shape: (10249, 30)  -  float64\n",
            "Number of bands in a single pixel after PCA:  30\n",
            "Example:\n",
            "[-0.56878874  0.63495052  0.59704223  0.26970449 -0.61739221 -0.26095816\n",
            "  0.73650359 -0.31238802  0.27531642  0.55351438 -0.11927694 -0.25979039\n",
            " -0.67504549 -0.51010896 -1.6117926  -1.00810707  0.40184962 -0.39602761\n",
            "  0.90029939  0.55467756  0.94308642  0.88595508  0.14796957  0.31909992\n",
            " -0.86302948 -0.15371623  0.58383395 -0.15633618 -0.26958439 -0.01734996]\n"
          ]
        },
        {
          "output_type": "execute_result",
          "data": {
            "text/plain": [
              "'\\ndef applyQuantize_i8(X):\\n  def get_int_value(float_value):\\n    k = quant_scale\\n    q = quant_zero_point\\n    return np.round((float_value / k) - q).astype(np.int8)\\n  X[:, :] = np.vectorize(get_int_value)(X[:, :])\\n  X = X.astype(np.int8)\\n  print(\"\\nData quantized\")\\n  print(\"Quantazied data shape:\", X.shape, \"\\nExample:\")\\n  print(X[0])\\n  return X\\n\\ndef applyQuantize_i8_2(data):\\n  # Initialize the quantization parameters\\n  quant_min = -128\\n  quant_max = 127\\n  data_qtz = np.empty_like(data, dtype=np.int8)\\n  #\\n  for i in range(data.shape[1]):\\n    data_qtz[:, i] = np.clip(np.round(data[:, i] * quant_max), quant_min, quant_max)\\n  print(\"\\nData quantized\")\\n  print(\"Quantized data shape:\", data_qtz.shape, \"\\nExample:\")\\n  print(data_qtz[0])\\n  return data_qtz\\n\\ndef applyQuantize_f16(input_data):\\n  input_data = input_data.astype(np.float16)\\n  return input_data\\n\\n#Quantizar dados?\\n#-> 0   == Não\\n#-> i8  == int8\\n#-> f16 == float16\\nif(quantizeInputData == \"i8\"):\\n  X_new = applyQuantize_i8(X_new)\\n  print(\"Xtype: \", X_new.dtype)\\nelif(quantizeInputData == \"f16\"):\\n  X_new = applyQuantize_f16(X_new)\\n  print(\"Xtype: \", X_new.dtype)\\nelse:\\n  print(\"\\nNo X quantization\")\\n  print(\"X dtype: \", X_new.dtype)\\n'"
            ],
            "application/vnd.google.colaboratory.intrinsic+json": {
              "type": "string"
            }
          },
          "metadata": {},
          "execution_count": 7
        }
      ]
    },
    {
      "cell_type": "markdown",
      "source": [
        "## Reshape for CNN"
      ],
      "metadata": {
        "id": "Xy_rPul0ZL__"
      }
    },
    {
      "cell_type": "code",
      "source": [
        "#Será utilizado no modelo NN, basicamente o modelo necessita de um 'shape' específico\n",
        "print(\"Reshape input data - Previous: \", X_new.shape)\n",
        "X_new = X_new.reshape(-1, Kb, 1)\n",
        "print(\"Reshape input data - After: \", X_new.shape)\n",
        "#X_new = np.expand_dims(X_new, axis=-1)\n",
        "#print(\"Reshape input data - After2: \", X_new.shape, \" Type: \", X_new.dtype)\n",
        "\n",
        "#X_new = X_new[:, :, np.newaxis]\n",
        "#X_new = X_new.astype(np.float32)"
      ],
      "metadata": {
        "id": "aVAshGsXZRFh",
        "colab": {
          "base_uri": "https://localhost:8080/"
        },
        "outputId": "354ce475-07e5-4c1d-8d26-547ceb0aa9b0"
      },
      "execution_count": null,
      "outputs": [
        {
          "output_type": "stream",
          "name": "stdout",
          "text": [
            "Reshape input data - Previous:  (10249, 30)\n",
            "Reshape input data - After:  (10249, 30, 1)\n"
          ]
        }
      ]
    },
    {
      "cell_type": "markdown",
      "source": [
        "## Split Base"
      ],
      "metadata": {
        "id": "vfZPQKIWSjYj"
      }
    },
    {
      "cell_type": "code",
      "source": [
        "#Separar a base de treino e de teste+validacao do Dataset\n",
        "#Stratify: Proportion of samples from each class is maintained in both the training and testing\n",
        "X_train, X_val_and_test, y_train, y_val_and_test = train_test_split(X_new, y_new, test_size=test_ratio, random_state=42,stratify=y_new)\n",
        "\n",
        "#(One-hot encoding) Precisamos deixar em um 'vetor de bits' devido a função de perda loss='categorical_crossentropy'\n",
        "#y_train = np_utils.to_categorical(y_train).astype(np.float16)\n",
        "#y_val_and_test = np_utils.to_categorical(y_val_and_test).astype(np.float16)\n",
        "#if(quantizeInputData == \"i8\"):\n",
        "#  y_train = np_utils.to_categorical(y_train).astype(np.int8)\n",
        "#  y_val_and_test = np_utils.to_categorical(y_val_and_test).astype(np.int8)\n",
        "#else:\n",
        "\n",
        "y_train = np_utils.to_categorical(y_train)\n",
        "y_val_and_test = np_utils.to_categorical(y_val_and_test)\n",
        "\n",
        "\n",
        "#Separar a base de teste e de validação do Dataset\n",
        "X_test, X_val, y_test, y_val = train_test_split(X_val_and_test, y_val_and_test, test_size=valid_ratio, random_state=42, stratify=y_val_and_test)\n",
        "\n",
        "#Quantidade de amostras por classe na base de TREINO\n",
        "#print(\"\\nSample quantity per class in train dataset:\\n\", pd.DataFrame(y_train)[0].value_counts())\n",
        "#Quantidade de amostras por classe na base de TESTE\n",
        "#print(\"\\nSample quantity per class in test dataset:\\n\", pd.DataFrame(y_validate_test)[0].value_counts())\n",
        "#Quantidade de amostras por classe na base de VALIDACAO\n",
        "#print(\"\\nSample quantity per class in validation dataset:\\n\", pd.DataFrame(y_val)[0].value_counts())\n",
        "\n",
        "print(\"Original - X_new:\", X_new.shape, \" |\", X_new.dtype)\n",
        "print(\"Reshape - X_train:\", X_train.shape, \" |\", X_train.dtype)\n",
        "print(\"Reshape - X_test:\", X_test.shape, \" |\", X_test.dtype)\n",
        "print(\"Reshape - X_validation:\", X_val.shape, \" |\", X_val.dtype)\n",
        "print(\"\\nOriginal - y_new:\", y_new.shape, \" |\", y_new.dtype)\n",
        "print(\"Reshape - y_train:\", y_train.shape, \" |\", y_train.dtype)\n",
        "print(\"Reshape - y_test:\", y_test.shape, \" |\", y_test.dtype)\n",
        "print(\"Reshape - y_validation:\", y_val.shape, \" |\", y_val.dtype)\n",
        "\n",
        "#Pegando informações para a CNN\n",
        "channels, size, classes = X_train.shape[1], X_train.shape[2], y_train.shape[1]\n",
        "print(\"\\nChannels:\", channels, \"\\nSize: \", size, \"\\nClasses: \", classes)"
      ],
      "metadata": {
        "id": "O6RKjw69SrFA",
        "colab": {
          "base_uri": "https://localhost:8080/"
        },
        "outputId": "e39e5530-499d-4562-8060-30259b2d6ea7"
      },
      "execution_count": null,
      "outputs": [
        {
          "output_type": "stream",
          "name": "stdout",
          "text": [
            "Original - X_new: (10249, 30, 1)  | float64\n",
            "Reshape - X_train: (8711, 30, 1)  | float64\n",
            "Reshape - X_test: (769, 30, 1)  | float64\n",
            "Reshape - X_validation: (769, 30, 1)  | float64\n",
            "\n",
            "Original - y_new: (10249,)  | uint8\n",
            "Reshape - y_train: (8711, 16)  | float32\n",
            "Reshape - y_test: (769, 16)  | float32\n",
            "Reshape - y_validation: (769, 16)  | float32\n",
            "\n",
            "Channels: 30 \n",
            "Size:  1 \n",
            "Classes:  16\n"
          ]
        }
      ]
    },
    {
      "cell_type": "markdown",
      "metadata": {
        "id": "S-aGNrK7soxz"
      },
      "source": [
        "# CNN"
      ]
    },
    {
      "cell_type": "markdown",
      "source": [
        "##Modelling"
      ],
      "metadata": {
        "id": "_5jWm5TlPQUT"
      }
    },
    {
      "cell_type": "code",
      "execution_count": null,
      "metadata": {
        "id": "GuzDM4YwsrMv",
        "colab": {
          "base_uri": "https://localhost:8080/"
        },
        "outputId": "fb1595bf-c7b3-4612-9819-2230e07aa731"
      },
      "outputs": [
        {
          "output_type": "stream",
          "name": "stderr",
          "text": [
            "WARNING:absl:Found untraced functions such as _jit_compiled_convolution_op, _jit_compiled_convolution_op, _jit_compiled_convolution_op, _jit_compiled_convolution_op while saving (showing 4 of 4). These functions will not be directly callable after loading.\n"
          ]
        },
        {
          "output_type": "stream",
          "name": "stdout",
          "text": [
            "Original - X_new: (10249, 30, 1)  | float64\n",
            "Model: \"sequential\"\n",
            "_________________________________________________________________\n",
            " Layer (type)                Output Shape              Param #   \n",
            "=================================================================\n",
            " conv2d (Conv2D)             (None, 22, 1, 16)         160       \n",
            "                                                                 \n",
            " conv2d_1 (Conv2D)           (None, 20, 1, 32)         1568      \n",
            "                                                                 \n",
            " conv2d_2 (Conv2D)           (None, 18, 1, 64)         6208      \n",
            "                                                                 \n",
            " conv2d_3 (Conv2D)           (None, 16, 1, 64)         12352     \n",
            "                                                                 \n",
            " flatten (Flatten)           (None, 1024)              0         \n",
            "                                                                 \n",
            " dense (Dense)               (None, 128)               131200    \n",
            "                                                                 \n",
            " dropout (Dropout)           (None, 128)               0         \n",
            "                                                                 \n",
            " dense_1 (Dense)             (None, 64)                8256      \n",
            "                                                                 \n",
            " dropout_1 (Dropout)         (None, 64)                0         \n",
            "                                                                 \n",
            " dense_2 (Dense)             (None, 16)                1040      \n",
            "                                                                 \n",
            "=================================================================\n",
            "Total params: 160,784\n",
            "Trainable params: 160,784\n",
            "Non-trainable params: 0\n",
            "_________________________________________________________________\n",
            "None\n"
          ]
        }
      ],
      "source": [
        "#CNN function\n",
        "def make_cnn_1D():\n",
        "  model = Sequential()\n",
        "  model.add(keras.layers.Input(shape=(channels,size)))\n",
        "  # Tune the number of units in the first Dense layer\n",
        "  # Choose an optimal value between 32-512\n",
        "  model.add(Conv1D(filters=16, kernel_size=9, activation='relu')) #7  #9 # Convolutional 1D\n",
        "  model.add(Conv1D(filters=32, kernel_size=3, activation='relu')) #5  #7 # Convolutional 1D\n",
        "  model.add(Conv1D(filters=64, kernel_size=3, activation='relu')) #3  #5 # Convolutional 1D\n",
        "  model.add(Conv1D(filters=64, kernel_size=3, activation='relu')) #3  #2 # Convolutional 1D\n",
        "  model.add(Flatten())\n",
        "  model.add(Dense(units=128, activation='relu')) #fully connected layers with 128 neurons and ReLU activation function\n",
        "  model.add(Dropout(0.5)) #old 0.3\n",
        "  model.add(Dense(units=64, activation='relu')) #fully connected layers with 64 neurons and ReLU activation function\n",
        "  model.add(Dropout(0.5)) #old 0.3\n",
        "  model.add(Dense(classes, activation='softmax')) #fully connected layers with 64 neurons and softmax activation function\n",
        "\n",
        "  adam = Adam(learning_rate=0.001, decay=1e-06)\n",
        "\n",
        "  #Compiling the CNN Model\n",
        "  model.compile(loss='categorical_crossentropy', optimizer=adam, metrics=['accuracy'])\n",
        "  return model\n",
        "#####\n",
        "\n",
        "#CNN function\n",
        "def make_cnn_2D():\n",
        "  model = Sequential()\n",
        "  model.add(keras.layers.Input(shape=(channels,size,1)))\n",
        "  # Tune the number of units in the first Dense layer\n",
        "  # Choose an optimal value between 32-512\n",
        "  model.add(Conv2D(filters=16, kernel_size=(9,1), activation='relu')) #7  #9 # Convolutional 2D\n",
        "  model.add(Conv2D(filters=32, kernel_size=(3,1), activation='relu')) #5  #7 # Convolutional 2D\n",
        "  model.add(Conv2D(filters=64, kernel_size=(3,1), activation='relu')) #3  #5 # Convolutional 2D\n",
        "  model.add(Conv2D(filters=64, kernel_size=(3,1), activation='relu')) #3  #2 # Convolutional 2D\n",
        "  model.add(Flatten())\n",
        "  model.add(Dense(units=128, activation='relu')) #fully connected layers with 128 neurons and ReLU activation function\n",
        "  model.add(Dropout(0.5)) #old 0.3\n",
        "  model.add(Dense(units=64, activation='relu')) #fully connected layers with 64 neurons and ReLU activation function\n",
        "  model.add(Dropout(0.5)) #old 0.3\n",
        "  model.add(Dense(classes, activation='softmax')) #fully connected layers with 64 neurons and softmax activation function\n",
        "\n",
        "  adam = Adam(learning_rate=0.001, decay=1e-06)\n",
        "\n",
        "  #Compiling the CNN Model\n",
        "  model.compile(loss='categorical_crossentropy', optimizer=adam, metrics=['accuracy'])\n",
        "  return model\n",
        "\n",
        "#Model to be create - CNN 1D - IP\n",
        "model = make_cnn_2D()\n",
        "\n",
        "#Salvando o modelo\n",
        "model.save(TF_MODEL)\n",
        "model.save(\"modelo.h5\")\n",
        "print(\"Original - X_new:\", X_new.shape, \" |\", X_new.dtype)\n",
        "print(model.summary())"
      ]
    },
    {
      "cell_type": "markdown",
      "source": [
        "## Train"
      ],
      "metadata": {
        "id": "C5LSh097Gq0S"
      }
    },
    {
      "cell_type": "code",
      "source": [
        "start_time = time.time()#Inicinado tempo\n",
        "early_stopping = EarlyStopping(monitor='val_loss', patience=5)\n",
        "NUM_EPOCHS = 60 #qtt of epochs\n",
        "BATCH_SIZE = 64 #batch_size\n",
        "#Training/Fitting the CNN Model\n",
        "history = model.fit(x=X_train, y=y_train, batch_size=BATCH_SIZE, epochs=NUM_EPOCHS, validation_data=(X_val, y_val), callbacks=[early_stopping])#, class_weight = class_weights, shuffle=True )\n",
        "end_time = time.time()#Parando tempo\n",
        "print(\"Time spent to train: \", end_time-start_time)"
      ],
      "metadata": {
        "id": "JdaGS9a9GwJE",
        "colab": {
          "base_uri": "https://localhost:8080/"
        },
        "outputId": "3f8145e1-da6d-4ccd-ec6e-aff5e9df70f4"
      },
      "execution_count": null,
      "outputs": [
        {
          "output_type": "stream",
          "name": "stdout",
          "text": [
            "Epoch 1/60\n",
            "137/137 [==============================] - 3s 17ms/step - loss: 2.0803 - accuracy: 0.3414 - val_loss: 1.2908 - val_accuracy: 0.5787\n",
            "Epoch 2/60\n",
            "137/137 [==============================] - 2s 15ms/step - loss: 1.3644 - accuracy: 0.5395 - val_loss: 0.9955 - val_accuracy: 0.6229\n",
            "Epoch 3/60\n",
            "137/137 [==============================] - 3s 22ms/step - loss: 1.1784 - accuracy: 0.5917 - val_loss: 0.8903 - val_accuracy: 0.6905\n",
            "Epoch 4/60\n",
            "137/137 [==============================] - 2s 17ms/step - loss: 1.0696 - accuracy: 0.6255 - val_loss: 0.8234 - val_accuracy: 0.7165\n",
            "Epoch 5/60\n",
            "137/137 [==============================] - 2s 13ms/step - loss: 0.9772 - accuracy: 0.6656 - val_loss: 0.7814 - val_accuracy: 0.7269\n",
            "Epoch 6/60\n",
            "137/137 [==============================] - 2s 13ms/step - loss: 0.9272 - accuracy: 0.6763 - val_loss: 0.7402 - val_accuracy: 0.7386\n",
            "Epoch 7/60\n",
            "137/137 [==============================] - 2s 12ms/step - loss: 0.8761 - accuracy: 0.6919 - val_loss: 0.7042 - val_accuracy: 0.7386\n",
            "Epoch 8/60\n",
            "137/137 [==============================] - 2s 12ms/step - loss: 0.8453 - accuracy: 0.6999 - val_loss: 0.6846 - val_accuracy: 0.7464\n",
            "Epoch 9/60\n",
            "137/137 [==============================] - 2s 13ms/step - loss: 0.8058 - accuracy: 0.7155 - val_loss: 0.6529 - val_accuracy: 0.7672\n",
            "Epoch 10/60\n",
            "137/137 [==============================] - 2s 18ms/step - loss: 0.7769 - accuracy: 0.7245 - val_loss: 0.6304 - val_accuracy: 0.7789\n",
            "Epoch 11/60\n",
            "137/137 [==============================] - 3s 21ms/step - loss: 0.7600 - accuracy: 0.7313 - val_loss: 0.6310 - val_accuracy: 0.7646\n",
            "Epoch 12/60\n",
            "137/137 [==============================] - 2s 13ms/step - loss: 0.7374 - accuracy: 0.7400 - val_loss: 0.6088 - val_accuracy: 0.7815\n",
            "Epoch 13/60\n",
            "137/137 [==============================] - 2s 13ms/step - loss: 0.7066 - accuracy: 0.7494 - val_loss: 0.6332 - val_accuracy: 0.7672\n",
            "Epoch 14/60\n",
            "137/137 [==============================] - 2s 12ms/step - loss: 0.6800 - accuracy: 0.7616 - val_loss: 0.6298 - val_accuracy: 0.7672\n",
            "Epoch 15/60\n",
            "137/137 [==============================] - 2s 13ms/step - loss: 0.6729 - accuracy: 0.7620 - val_loss: 0.6039 - val_accuracy: 0.7906\n",
            "Epoch 16/60\n",
            "137/137 [==============================] - 2s 13ms/step - loss: 0.6514 - accuracy: 0.7710 - val_loss: 0.5783 - val_accuracy: 0.7776\n",
            "Epoch 17/60\n",
            "137/137 [==============================] - 2s 14ms/step - loss: 0.6405 - accuracy: 0.7718 - val_loss: 0.5671 - val_accuracy: 0.7932\n",
            "Epoch 18/60\n",
            "137/137 [==============================] - 3s 20ms/step - loss: 0.6162 - accuracy: 0.7791 - val_loss: 0.5833 - val_accuracy: 0.7893\n",
            "Epoch 19/60\n",
            "137/137 [==============================] - 2s 18ms/step - loss: 0.6036 - accuracy: 0.7851 - val_loss: 0.5800 - val_accuracy: 0.7971\n",
            "Epoch 20/60\n",
            "137/137 [==============================] - 2s 12ms/step - loss: 0.5881 - accuracy: 0.7873 - val_loss: 0.5532 - val_accuracy: 0.7958\n",
            "Epoch 21/60\n",
            "137/137 [==============================] - 2s 13ms/step - loss: 0.5766 - accuracy: 0.7951 - val_loss: 0.5616 - val_accuracy: 0.8036\n",
            "Epoch 22/60\n",
            "137/137 [==============================] - 2s 13ms/step - loss: 0.5612 - accuracy: 0.7993 - val_loss: 0.5991 - val_accuracy: 0.7906\n",
            "Epoch 23/60\n",
            "137/137 [==============================] - 2s 12ms/step - loss: 0.5519 - accuracy: 0.8056 - val_loss: 0.5594 - val_accuracy: 0.7971\n",
            "Epoch 24/60\n",
            "137/137 [==============================] - 2s 12ms/step - loss: 0.5387 - accuracy: 0.8093 - val_loss: 0.5548 - val_accuracy: 0.8049\n",
            "Epoch 25/60\n",
            "137/137 [==============================] - 2s 17ms/step - loss: 0.5225 - accuracy: 0.8143 - val_loss: 0.5605 - val_accuracy: 0.8101\n",
            "Time spent to train:  51.75863981246948\n"
          ]
        }
      ]
    },
    {
      "cell_type": "markdown",
      "source": [
        "## Plotting Loss"
      ],
      "metadata": {
        "id": "NvZN5pA0urtE"
      }
    },
    {
      "cell_type": "code",
      "source": [
        "#Loss function plot - Train and Validation\n",
        "loss_train = history.history['loss']\n",
        "loss_val   = history.history['val_loss']\n",
        "acc_train  = history.history['accuracy']\n",
        "acc_val    = history.history['val_accuracy']\n",
        "epochs     = range(1, early_stopping.stopped_epoch + 1 + 1)\n",
        "\n",
        "def plot_train_val_history(x, y_train, y_val, type_txt):\n",
        "  plt.figure(figsize = (10,7))\n",
        "  plt.plot(x, y_train, 'g', label='Training'+type_txt)\n",
        "  plt.plot(x, y_val, 'b', label='Validation'+type_txt)\n",
        "  plt.title('Training and Validation'+type_txt)\n",
        "  plt.xlabel('Epochs')\n",
        "  plt.ylabel(type_txt)\n",
        "  plt.legend(['Training','Validation'], loc='upper center')\n",
        "  plt.grid()\n",
        "  plt.savefig(type_txt + \"_curve_CNN.pdf\")\n",
        "  plt.show()\n",
        "\n",
        "plot_train_val_history(epochs, loss_train, loss_val, \"Loss\")\n",
        "plot_train_val_history(epochs, acc_train, acc_val, \"Accuracy\")"
      ],
      "metadata": {
        "id": "u_MphwdKvCNa",
        "colab": {
          "base_uri": "https://localhost:8080/"
        },
        "outputId": "a8630b85-5933-423d-eb26-a8bcb61df56e"
      },
      "execution_count": null,
      "outputs": [
        {
          "output_type": "display_data",
          "data": {
            "text/plain": [
              "<Figure size 1000x700 with 1 Axes>"
            ],
            "image/png": "[encoded data removed]"
          },
          "metadata": {}
        },
        {
          "output_type": "display_data",
          "data": {
            "text/plain": [
              "<Figure size 1000x700 with 1 Axes>"
            ],
            "image/png": "[encoded data removed]"
          },
          "metadata": {}
        }
      ]
    },
    {
      "cell_type": "markdown",
      "source": [
        "## Predict"
      ],
      "metadata": {
        "id": "r4kkiM87raT6"
      }
    },
    {
      "cell_type": "code",
      "source": [
        "start_time = time.time()#Inicinado tempo\n",
        "prediction = model.predict(X_test)\n",
        "predicted_class = np.argmax(prediction, axis=1) #Pegar indice máximo de cada Row\n",
        "end_time = time.time()#Parando tempo\n",
        "print(\"Time spent to predict: \", end_time-start_time)"
      ],
      "metadata": {
        "colab": {
          "base_uri": "https://localhost:8080/"
        },
        "id": "OUtIuJsPrgGn",
        "outputId": "05dc751b-28e6-488b-c40e-db7bf9e9739e"
      },
      "execution_count": null,
      "outputs": [
        {
          "output_type": "stream",
          "name": "stdout",
          "text": [
            "25/25 [==============================] - 0s 3ms/step\n",
            "Time spent to predict:  0.3105134963989258\n"
          ]
        }
      ]
    },
    {
      "cell_type": "markdown",
      "source": [
        "## Results"
      ],
      "metadata": {
        "id": "2ibTvXgpkAhr"
      }
    },
    {
      "cell_type": "code",
      "source": [
        "classification = classification_report(np.argmax(y_test, axis=1), predicted_class, zero_division=1)\n",
        "print(classification)\n",
        "\n",
        "#original_stdout = sys.stdout # Save a reference to the original standard output\n",
        "#with open('result_CNN1D.txt', 'w') as f:\n",
        "#    sys.stdout = f # Change the standard output to the file we created.\n",
        "#    print(classification)\n",
        "#    sys.stdout = original_stdout # Reset the standard output to its original value\n",
        "\n",
        "\n",
        "###### VIEL (KAPPA):\n",
        "from sklearn.metrics import confusion_matrix, accuracy_score, classification_report, cohen_kappa_score\n",
        "from operator import truediv\n",
        "\n",
        "def AA_andEachClassAccuracy(confusion_matrix):\n",
        "    counter = confusion_matrix.shape[0]\n",
        "    list_diag = np.diag(confusion_matrix)\n",
        "    list_raw_sum = np.sum(confusion_matrix, axis=1)\n",
        "    each_acc = np.nan_to_num(truediv(list_diag, list_raw_sum))\n",
        "    average_acc = np.mean(each_acc)\n",
        "    return each_acc, average_acc\n",
        "\n",
        "oa = accuracy_score(np.argmax(y_test, axis=1), predicted_class)\n",
        "confusion = confusion_matrix(np.argmax(y_test, axis=1), predicted_class)\n",
        "each_acc, aa = AA_andEachClassAccuracy(confusion)\n",
        "kappa = cohen_kappa_score(np.argmax(y_test, axis=1), predicted_class)\n",
        "score = model.evaluate(X_test, y_test, batch_size=32)\n",
        "Test_Loss =  score[0]*100\n",
        "\n",
        "print(\"OA:   \", oa)\n",
        "print(\"AA:   \", aa)\n",
        "print(\"kappa:\", kappa)"
      ],
      "metadata": {
        "colab": {
          "base_uri": "https://localhost:8080/"
        },
        "id": "Tqqi_lPnj_Ig",
        "outputId": "333657b2-27d3-46c8-efae-1e56051a3857"
      },
      "execution_count": null,
      "outputs": [
        {
          "output_type": "stream",
          "name": "stdout",
          "text": [
            "              precision    recall  f1-score   support\n",
            "\n",
            "           0       0.75      0.75      0.75         4\n",
            "           1       0.74      0.76      0.75       107\n",
            "           2       0.80      0.65      0.71        62\n",
            "           3       0.50      0.33      0.40        18\n",
            "           4       0.97      0.89      0.93        36\n",
            "           5       0.89      1.00      0.94        54\n",
            "           6       1.00      1.00      1.00         2\n",
            "           7       0.95      1.00      0.97        36\n",
            "           8       1.00      0.50      0.67         2\n",
            "           9       0.61      0.67      0.64        73\n",
            "          10       0.81      0.84      0.83       184\n",
            "          11       0.68      0.71      0.70        45\n",
            "          12       0.88      1.00      0.94        15\n",
            "          13       0.92      0.97      0.94        95\n",
            "          14       0.82      0.48      0.61        29\n",
            "          15       0.78      1.00      0.88         7\n",
            "\n",
            "    accuracy                           0.80       769\n",
            "   macro avg       0.82      0.78      0.79       769\n",
            "weighted avg       0.80      0.80      0.80       769\n",
            "\n",
            "25/25 [==============================] - 0s 3ms/step - loss: 0.5921 - accuracy: 0.8036\n",
            "OA:    0.8036410923276983\n",
            "AA:    0.7840545650764374\n",
            "kappa: 0.7756015830930608\n"
          ]
        }
      ]
    },
    {
      "cell_type": "markdown",
      "source": [
        "# Convert Model Int8"
      ],
      "metadata": {
        "id": "kDsKY0M5BcG7"
      }
    },
    {
      "cell_type": "markdown",
      "source": [
        "## Quantize Model"
      ],
      "metadata": {
        "id": "mLfFc8ft5FFC"
      }
    },
    {
      "cell_type": "code",
      "source": [
        "##Quantização de faixa dinâmica pós-treinamento\n",
        "#https://www.tensorflow.org/lite/performance/post_training_quant?hl=pt-br\n",
        "##Quantização pós-treinamento\n",
        "#https://www.tensorflow.org/lite/performance/post_training_quantization?hl=pt-br\n",
        "##(ESCOLHIDA) Quantização inteira pós-treinamento\n",
        "#https://www.tensorflow.org/lite/performance/post_training_integer_quant?hl=pt-br\n",
        "\n",
        "##Devemos quantizar nosso modelo gerado por dois motivos:\n",
        "#Fica infinitamenet mais leve para aportar para o microcontrolador (floating point fica muito pesado em MCUs)\n",
        "#Consumo de energia muito menor do MCU\n",
        "\n",
        "#The following steps show how to use the TFLite converter to quantize and produce a suitable model for microcontrollers:\n",
        "#This step is commonly called generating a representative dataset, and it is essential to reduce the risk of an accuracy drop in the quantization\n",
        "#Select a few hundred of samples randomly from the test dataset to calibrate the quantization\n",
        "def representative_data_gen():\n",
        "  for i_value in tf.data.Dataset.from_tensor_slices(X_test).batch(1).take(100):\n",
        "    i_value_f32 = tf.dtypes.cast(i_value, tf.float32)\n",
        "    yield [i_value_f32]\n",
        "\n",
        "def representative_data_gen_i8():\n",
        "  for i_value in tf.data.Dataset.from_tensor_slices(X_test).batch(1).take(100):\n",
        "    #i_value_i8 = tf.dtypes.cast(i_value, tf.int8)\n",
        "    #yield [i_value_i8]\n",
        "    yield [i_value]\n",
        "\n",
        "#Import the TensorFlow SavedModel directory into TensorFlow Lite Converter\n",
        "#converter = tf.lite.TFLiteConverter.from_saved_model(TF_MODEL)\n",
        "converter = tf.lite.TFLiteConverter.from_keras_model(model)\n",
        "\n",
        "#Representative dataset: This is the representative dataset generated in the first step\n",
        "converter.representative_dataset = tf.lite.RepresentativeDataset(representative_data_gen)\n",
        "\n",
        "#Optimizations: This defines the optimization strategy to adopt\n",
        "converter.optimizations = [tf.lite.Optimize.DEFAULT]\n",
        "\n",
        "#Supported ops: This forces the adoption of only integer 8-bit operators during the conversion.\n",
        "converter.target_spec.supported_ops = [tf.lite.OpsSet.TFLITE_BUILTINS_INT8] #If our model has unsupported kernels, the conversion will not succeed.\n",
        "\n",
        "#Inference input/output type: This adopts the 8-bit quantization format for the network's input and output\n",
        "converter.inference_input_type = tf.int8\n",
        "converter.inference_output_type = tf.int8\n",
        "#Therefore, we will need to feed the ML model with the quantized input features to run the inference correctly.\n",
        "\n",
        "#Convert the model to TensorFlow Lite file format (FlatBuffers) as save it as .tflite\n",
        "tflite_model_quant = converter.convert()"
      ],
      "metadata": {
        "id": "34_E71g7BPT_",
        "colab": {
          "base_uri": "https://localhost:8080/"
        },
        "outputId": "00e3b83e-6c43-4003-98d5-50d4d5ffacee"
      },
      "execution_count": null,
      "outputs": [
        {
          "output_type": "stream",
          "name": "stderr",
          "text": [
            "WARNING:absl:Found untraced functions such as _jit_compiled_convolution_op, _jit_compiled_convolution_op, _jit_compiled_convolution_op, _jit_compiled_convolution_op while saving (showing 4 of 4). These functions will not be directly callable after loading.\n",
            "/usr/local/lib/python3.10/dist-packages/tensorflow/lite/python/convert.py:789: UserWarning: Statistics for quantized inputs were expected, but not specified; continuing anyway.\n",
            "  warnings.warn(\"Statistics for quantized inputs were expected, but not \"\n"
          ]
        }
      ]
    },
    {
      "cell_type": "markdown",
      "source": [
        "##Save Model"
      ],
      "metadata": {
        "id": "vfnJR3sg5ate"
      }
    },
    {
      "cell_type": "code",
      "source": [
        "#Save the converted model as .tflite:\n",
        "open(TF_MODEL_TFL, \"wb\").write(tflite_model_quant)\n",
        "\n",
        "\n",
        "#Convert the TFLiteLite model to a C-byte array with xxd:\n",
        "#The conversion to a C-byte array is crucial because the .tflite format requires an library into our application to load the file from memory.\n",
        "#The -i option: containing the TFLite model as an unsigned char array with many hexadecimal numbers\n",
        "!apt-get update && apt-get -qq install xxd\n",
        "!xxd -i $TF_MODEL_TFL > $TF_MODEL_C\n",
        "!cat $TF_MODEL_C\n",
        "!cp -v \"$TF_MODEL_TFL\" \"/content/drive/MyDrive/Colab Notebooks/HSI_CNN/Models\"\n",
        "!cp -v \"$TF_MODEL_C\" \"/content/drive/MyDrive/Colab Notebooks/HSI_CNN/Models\"\n",
        "\n",
        "#Most of MCUs dont have OS and native filesystem.\n",
        "#Therefore, the C-byte array format allows us to integrate the model directly into the application.\n",
        "#Another reason is the .tflite file does not allow keeping the weights in program memory. Every byte matters and SRAM has limited capacity,\n",
        "#keeping the model in program memory is generally more memory efficient when the weights are constant."
      ],
      "metadata": {
        "id": "UIgylN0t5iMW"
      },
      "execution_count": null,
      "outputs": []
    },
    {
      "cell_type": "markdown",
      "source": [
        "## Quantize Input"
      ],
      "metadata": {
        "id": "s2mG5MHmdBGw"
      }
    },
    {
      "cell_type": "code",
      "source": [
        "def get_quantization_parameters():\n",
        "  interpreter = tf.lite.Interpreter(model_path=TF_MODEL_TFL)\n",
        "  interpreter.allocate_tensors()\n",
        "\n",
        "  # Load input and output details\n",
        "  input_details = interpreter.get_input_details()[0]\n",
        "  output_details = interpreter.get_output_details()[0]\n",
        "\n",
        "  qtz_scale = interpreter.get_input_details()[0]['quantization_parameters']['scales'][0]\n",
        "  qtz_zero_point = interpreter.get_input_details()[0]['quantization_parameters']['zero_points'][0]\n",
        "  qtz_zero_point = qtz_zero_point*-1\n",
        "  return(qtz_scale,qtz_zero_point)\n",
        "\n",
        "def get_int_value(float_value, qtz_scale, qtz_zero_point):\n",
        "  return np.round((float_value / qtz_scale) - qtz_zero_point).astype(np.int8)\n",
        "\n",
        "# Quantize inputs to be tensor\n",
        "X_mic = X_test.copy()\n",
        "qtz_scale, qtz_zero_point = get_quantization_parameters()\n",
        "print(\"Quantization Scale: \" + str(qtz_scale))\n",
        "print(\"Quantization Zero Point: \" + str(qtz_zero_point))\n",
        "X_mic[:, :, 0, 0] = np.vectorize(get_int_value)(X_mic[:, :, 0, 0],qtz_scale,qtz_zero_point)\n",
        "X_mic = X_mic.astype(np.int8)"
      ],
      "metadata": {
        "colab": {
          "base_uri": "https://localhost:8080/"
        },
        "id": "eYPG52hydGru",
        "outputId": "c75c7506-aa39-45e2-82c5-a2f4a2fa2375"
      },
      "execution_count": null,
      "outputs": [
        {
          "output_type": "stream",
          "name": "stdout",
          "text": [
            "Quantization Scale: 0.04612913\n",
            "Quantization Zero Point: 25\n"
          ]
        }
      ]
    },
    {
      "cell_type": "markdown",
      "source": [
        "##Interpreter"
      ],
      "metadata": {
        "id": "scihlQCCVH1x"
      }
    },
    {
      "cell_type": "code",
      "source": [
        "# Load the TFLite model and allocate tensors.\n",
        "interpreter = tf.lite.Interpreter(model_path=TF_MODEL_TFL)\n",
        "interpreter.allocate_tensors()\n",
        "\n",
        "# Load input and output details\n",
        "input_details = interpreter.get_input_details()[0]\n",
        "output_details = interpreter.get_output_details()[0]\n",
        "\n",
        "# Print the details.\n",
        "print(\"Input details:\", input_details)\n",
        "print(\"\\n\")\n",
        "print(\"Output details:\", output_details)\n",
        "print(\"\\n\")\n",
        "\n",
        "# Calculate the number of correct predictions\n",
        "correct = 0\n",
        "# Load correct output\n",
        "y_test_correct = np.argmax(y_test.copy().astype(np.int8), axis=1)\n",
        "\n",
        "for i_value in range(len(X_mic)):\n",
        "  # Get Input Data\n",
        "  input_data_int = np.expand_dims(X_mic[i_value], axis=0)\n",
        "\n",
        "  # Set the input tensor value.\n",
        "  interpreter.set_tensor(input_details['index'], input_data_int)\n",
        "\n",
        "  # Invoke the interpreter.\n",
        "  interpreter.invoke()\n",
        "\n",
        "  # Get the output tensor value.\n",
        "  output_data = interpreter.get_tensor(output_details['index'])\n",
        "  output_max = np.argmax(output_data, axis = 1)\n",
        "\n",
        "  # Confirm equality.\n",
        "  if output_max == y_test_correct[i_value]:\n",
        "    correct = correct +1\n",
        "\n",
        "acc_geral = float(correct/len(X_mic))\n",
        "print(\"\\nNumber of correct predictions: \", correct)\n",
        "print(\"\\nOverall Accuracy of interpreter: \", acc_geral)"
      ],
      "metadata": {
        "id": "TGdbA9KTVK3n",
        "colab": {
          "base_uri": "https://localhost:8080/"
        },
        "outputId": "3527907f-05e1-4ac6-c83c-959f81cd1664"
      },
      "execution_count": null,
      "outputs": [
        {
          "output_type": "stream",
          "name": "stdout",
          "text": [
            "Input details: {'name': 'serving_default_input_3:0', 'index': 0, 'shape': array([ 1, 30,  1,  1], dtype=int32), 'shape_signature': array([-1, 30,  1,  1], dtype=int32), 'dtype': <class 'numpy.int8'>, 'quantization': (0.04612912982702255, -25), 'quantization_parameters': {'scales': array([0.04612913], dtype=float32), 'zero_points': array([-25], dtype=int32), 'quantized_dimension': 0}, 'sparsity_parameters': {}}\n",
            "\n",
            "\n",
            "Output details: {'name': 'StatefulPartitionedCall:0', 'index': 24, 'shape': array([ 1, 16], dtype=int32), 'shape_signature': array([-1, 16], dtype=int32), 'dtype': <class 'numpy.int8'>, 'quantization': (0.00390625, -128), 'quantization_parameters': {'scales': array([0.00390625], dtype=float32), 'zero_points': array([-128], dtype=int32), 'quantized_dimension': 0}, 'sparsity_parameters': {}}\n",
            "\n",
            "\n",
            "\n",
            "Number of correct predictions:  637\n",
            "\n",
            "Overall Accuracy of interpreter:  0.8283485045513654\n"
          ]
        }
      ]
    },
    {
      "cell_type": "markdown",
      "source": [
        "## Save Tensors"
      ],
      "metadata": {
        "id": "ly_RG3aLxEqC"
      }
    },
    {
      "cell_type": "code",
      "source": [
        "def save_tensor_input(X):\n",
        "  dim1 = len(X)     # Lengh of first dimention.\n",
        "  dim2 = len(X[0])  # Lengh of second dimention.\n",
        "  X = X.reshape(dim1, dim2)\n",
        "  arr_list = X.tolist()\n",
        "  with open('tensor_input.h', 'w') as f:\n",
        "    str_aux = 'int8_t tensor_input[' + str(dim1) + '][' + str(dim2) +'] = {\\n'\n",
        "    f.write(str_aux)\n",
        "    for row in arr_list:\n",
        "        f.write('{')\n",
        "        for i, val in enumerate(row):\n",
        "            if i != len(row) - 1:\n",
        "                f.write(str(val) + ', ')\n",
        "            else:\n",
        "                f.write(str(val))\n",
        "        f.write('},\\n')\n",
        "    f.write('};')\n",
        "\n",
        "def save_tensor_output(y):\n",
        "  dim1 = len(y)     # Lengh of first dimention.\n",
        "  dim2 = 1\n",
        "  y = y.reshape(dim1, dim2)\n",
        "  arr_list = y.tolist()\n",
        "  with open('tensor_output.h', 'w') as f:\n",
        "    f.write('int8_t tensor_output[' + str(dim1) + '][' + str(dim2) +'] = {\\n')\n",
        "    for row in arr_list:\n",
        "        f.write('{')\n",
        "        for i, val in enumerate(row):\n",
        "            if i != len(row) - 1:\n",
        "                f.write(str(val) + ', ')\n",
        "            else:\n",
        "                f.write(str(val))\n",
        "        f.write('},\\n')\n",
        "    f.write('};')\n",
        "\n",
        "def save_correct_output(y_t):\n",
        "  arr_list = (np.argmax(y_t, axis=1)).tolist()\n",
        "  dim1 = len(y_t)\n",
        "  dim2 = 1\n",
        "  #arr_list = y_t.tolist()\n",
        "  with open('tensor_correct.h', 'w') as f:\n",
        "    f.write('int8_t tensor_correct[' + str(dim1) + '][' + str(dim2) +'] = {\\n')\n",
        "    for i, row in enumerate(arr_list):\n",
        "      f.write('{')\n",
        "      if i != len(arr_list) - 1:\n",
        "          f.write(str(row) + '},\\n')\n",
        "      else:\n",
        "          f.write(str(row) + '}')\n",
        "    f.write('};')\n",
        "\n",
        "\n",
        "# Get Predicted Output\n",
        "#y_predict = predicted_class.copy().astype(np.int8)\n",
        "#save_tensor_output(y_predict)\n",
        "\n",
        "# Save inputs and output tensors\n",
        "y_correct = y_test.copy().astype(np.int8)\n",
        "save_correct_output(y_correct)\n",
        "save_tensor_input(X_mic)\n",
        "\n",
        "print(\"\\nShape of tensor input: \", X_mic.shape)\n",
        "print(\"\\nShape of tensor output: \", y_correct.shape)\n",
        "print(\"\\n\")\n",
        "\n",
        "!cp -v \"tensor_input.h\" \"/content/drive/MyDrive/Colab Notebooks/HSI_CNN/Models\"\n",
        "!cp -v \"tensor_output.h\" \"/content/drive/MyDrive/Colab Notebooks/HSI_CNN/Models\"\n",
        "!cp -v \"tensor_correct.h\" \"/content/drive/MyDrive/Colab Notebooks/HSI_CNN/Models\"\n"
      ],
      "metadata": {
        "colab": {
          "base_uri": "https://localhost:8080/"
        },
        "id": "j8xOx_4pxXd5",
        "outputId": "cbb8254c-11e9-4444-e3c1-b90d66afd712"
      },
      "execution_count": null,
      "outputs": [
        {
          "output_type": "stream",
          "name": "stdout",
          "text": [
            "\n",
            "Shape of tensor input:  (769, 30, 1, 1)\n",
            "\n",
            "Shape of tensor output:  (769, 16)\n",
            "\n",
            "\n",
            "'tensor_input.h' -> '/content/drive/MyDrive/Colab Notebooks/HSI_CNN/Models/tensor_input.h'\n",
            "cp: cannot stat 'tensor_output.h': No such file or directory\n",
            "'tensor_correct.h' -> '/content/drive/MyDrive/Colab Notebooks/HSI_CNN/Models/tensor_correct.h'\n"
          ]
        }
      ]
    },
    {
      "cell_type": "markdown",
      "source": [
        "# Convert Model F16"
      ],
      "metadata": {
        "id": "I1lH1JvlowfM"
      }
    },
    {
      "cell_type": "markdown",
      "source": [
        "##Quantize"
      ],
      "metadata": {
        "id": "F4Yi3kXBpWMX"
      }
    },
    {
      "cell_type": "code",
      "source": [
        "#The following steps show how to use the TFLite converter to quantize and produce a suitable model for microcontrollers:\n",
        "#This step is commonly called generating a representative dataset, and it is essential to reduce the risk of an accuracy drop in the quantization\n",
        "#Select a few hundred of samples randomly from the test dataset to calibrate the quantization\n",
        "def representative_data_gen_f16():\n",
        "  for i_value in tf.data.Dataset.from_tensor_slices(X_test).batch(1).take(100):\n",
        "    i_value_f32 = tf.dtypes.cast(i_value, tf.float16)\n",
        "    yield [i_value_f32]\n",
        "\n",
        "#Import the TensorFlow SavedModel directory into TensorFlow Lite Converter\n",
        "converter = tf.lite.TFLiteConverter.from_saved_model(TF_MODEL)\n",
        "\n",
        "#Representative dataset: This is the representative dataset generated in the first step.\n",
        "converter.representative_dataset = tf.lite.RepresentativeDataset(representative_data_gen_f16)\n",
        "\n",
        "#Optimizations: This defines the optimization strategy to adopt\n",
        "converter.optimizations = [tf.lite.Optimize.DEFAULT]\n",
        "\n",
        "#Supported ops: This forces the adoption of only integer 8-bit operators during the conversion.\n",
        "converter.target_spec.supported_ops = [tf.lite.OpsSet.TFLITE_BUILTINS_INT8]\n",
        "#converter.target_spec.supported_ops = [tf.lite.OpsSet.EXPERIMENTAL_TFLITE_BUILTINS_ACTIVATIONS_INT16_WEIGHTS_INT8]\n",
        "\n",
        "#Inference input/output type: This adopts the 8-bit quantization format for the network's input and output\n",
        "#converter.target_spec.supported_types = [tf.float16]\n",
        "converter.inference_input_type = tf.float16\n",
        "converter.inference_output_type = tf.float16\n",
        "#Therefore, we will need to feed the ML model with the quantized input features to run the inference correctly.\n",
        "\n",
        "#Convert the model to TensorFlow Lite file format (FlatBuffers) as save it as .tflite\n",
        "tflite_model_quant = converter.convert()"
      ],
      "metadata": {
        "id": "cYsM25xUo0bQ"
      },
      "execution_count": null,
      "outputs": []
    },
    {
      "cell_type": "markdown",
      "source": [
        "# Teste"
      ],
      "metadata": {
        "id": "hC1Ic1enmeTq"
      }
    },
    {
      "cell_type": "code",
      "source": [
        "def print_entrada(X):\n",
        "  new_arr = np.squeeze(X).tolist()\n",
        "  print(\"Entrada:\")\n",
        "  print(new_arr)\n",
        "  #second_dim = X[0]\n",
        "  #temp = second_dim.tolist()\n",
        "  #print(temp)\n",
        "\n",
        "def print_entrada_raw(X):\n",
        "  print(X)\n",
        "\n",
        "def print_weights(sample):\n",
        "  print(\"Pesos Float:\")\n",
        "  print(sample.tolist())\n",
        "  max = np.argmax(sample)\n",
        "  print(\"Classe Float: \", max)\n",
        "  #for i,weight in enumerate(sample):\n",
        "  #  print(\"Class\",i,\":\",weight)\n",
        "\n",
        "def print_weights_(sample):\n",
        "  k = 0.0039062500\n",
        "  q = -128.0\n",
        "  temp = []\n",
        "  for row in sample.tolist():\n",
        "    a = np.int8((float(row)/ k) - q)\n",
        "    temp.append(a)\n",
        "  print(\"Pesos Inteiro:\")\n",
        "  print(temp)\n",
        "  max = np.argmax(temp)\n",
        "  print(\"Classe Inteiro: \", max)\n",
        "#prediction = model.predict(X_test)\n",
        "#predicted_class = np.argmax(prediction, axis=1) #Pegar indice máximo de cada Row\n",
        "\n",
        "position = 0\n",
        "\n",
        "print(X_test.shape)\n",
        "print(\"Current Position: \", position)\n",
        "print_entrada(X_test[position])\n",
        "#prediction = model.predict(X_test)\n",
        "#prediction_sample = prediction[position]\n",
        "#predicted_class = np.argmax(prediction_sample, axis=0)\n",
        "# Print the predicted class\n",
        "#print(prediction[0])\n",
        "print(\"\\n\")\n",
        "print_weights(prediction[position])\n",
        "print(\"\\n\")\n",
        "print_weights_(prediction[position])\n",
        "print(\"\\nPredicted class:\", predicted_class[position])\n",
        "#print(\"\\n\\n\")\n",
        "#print_entrada_raw(X_test[position])"
      ],
      "metadata": {
        "colab": {
          "base_uri": "https://localhost:8080/"
        },
        "id": "bL5en5E6zgVu",
        "outputId": "1d3a486b-9591-4f12-a5a8-7b9cfa291104"
      },
      "execution_count": null,
      "outputs": [
        {
          "output_type": "stream",
          "name": "stdout",
          "text": [
            "(769, 30, 1, 1)\n",
            "Current Position:  0\n",
            "Entrada:\n",
            "[-13, 1, -24, -30, -56, 25, -51, -31, -23, 13, -17, -24, -40, -58, -26, 30, -42, 2, -19, -37, -22, 2, -14, -20, -5, -41, -36, -27, -6, -14]\n",
            "\n",
            "\n",
            "Pesos Float:\n",
            "[2.308838602594954e-17, 5.361065910616417e-18, 1.217235367236252e-15, 1.9388648672680198e-12, 5.231634223057391e-11, 0.9998735189437866, 1.9737313169145634e-18, 3.821755375753984e-21, 4.2825876178653743e-10, 4.4791956060018234e-13, 1.4037349841539148e-13, 3.7839592188197515e-17, 4.4285944506559146e-15, 1.5626020442860433e-13, 0.0001264082529814914, 3.8676774706826016e-20]\n",
            "Classe Float:  5\n",
            "\n",
            "\n",
            "Pesos Inteiro:\n",
            "[-128, -128, -128, -128, -128, 127, -128, -128, -128, -128, -128, -128, -128, -128, -128, -128]\n",
            "Classe Inteiro:  5\n",
            "\n",
            "Predicted class: 6\n"
          ]
        }
      ]
    },
    {
      "cell_type": "code",
      "source": [
        "#print(X_test_test)\n",
        "temp = 0\n",
        "k = 0.04612912982702255\n",
        "for i in range(30):\n",
        "  temp = (X_test_test[0][i][0][0]-(25*k))/k\n",
        "  print(temp)\n",
        "\n",
        "#real_value = scale * (int_value - zero_point)\n",
        "#float_max - float_min) / (int_max - int_min)\n",
        "#int_min - (float_min / scale)\n",
        "\n",
        "def quantize_to_INT8(tensor): # per tensor quantization. The other one is per channel (per axis) quantization.\n",
        "    max_float = np.max(tensor)\n",
        "    min_float = np.min(tensor)\n",
        "    scale = (max_float - min_float) * (1/256)\n",
        "    zero_point = -128 -(min_float / scale)\n",
        "\n",
        "    int_values = (tensor / scale) + zero_point\n",
        "    int_values = np.round(int_value) # This introduces quantization error. More on that later.\n",
        "\n",
        "    int_values[int_values > 127] = 127 # Clipping to be done to avoid overflow\n",
        "    int_values[int_values < -128] = -128\n",
        "    int_values = int_values.astype(np.int8) # duh!\n",
        "    return int_values\n",
        "\n",
        "X_test_test = X_test[0]\n",
        "X_test_test = X_test_test.reshape(1,-1,1,1)\n",
        "print(X_test_test.shape)\n",
        "print(\"\\n\")\n",
        "print(X_test_test)\n",
        "\n",
        "prediction = model.predict(X_test_test)\n",
        "#print(X_test.shape)\n",
        "#print(X_test[0])\n",
        "\n",
        "prediction_sample = prediction[0]\n",
        "print_sample(prediction_sample)\n",
        "\n",
        "predicted_class = np.argmax(prediction_sample)\n",
        "print(predicted_class)\n",
        "\n",
        "#print_sample(prediction_sample)\n",
        "#print(\"Predicted class:\", predicted_class)\n",
        "#print(len(prediction[1]))\n",
        "\n",
        "#print(tf.__version__)\n",
        "#print(help(tf.lite.TFLiteConverter))\n",
        "\n",
        "def print_sample(sample):\n",
        "  print(\"Class weights of the item:\")\n",
        "  for i,weight in enumerate(sample):\n",
        "    print(\"Class\",i,\":\",weight)\n",
        "###\n",
        "start_time = time.time()#Inicinado tempo\n",
        "#\n",
        "prediction = model.predict(X_test)\n",
        "prediction_sample = prediction[1]\n",
        "predicted_class = np.argmax(prediction_sample, axis=0)\n",
        "#\n",
        "end_time = time.time()#Parando tempo\n",
        "#\n",
        "print(\"Time spent: \", end_time-start_time)\n",
        "###\n",
        "# Print the predicted class\n",
        "print_sample(prediction_sample)\n",
        "print(\"Predicted class:\", predicted_class)\n",
        "print(\"\\n\\n\")\n",
        "print(X_test[1])\n",
        "#classification = classification_report(np.argmax(y_test, axis=1), predicted_class)\n",
        "#print(classification)"
      ],
      "metadata": {
        "id": "5TlH1sjmxgBs"
      },
      "execution_count": null,
      "outputs": []
    }
  ],
  "metadata": {
    "accelerator": "GPU",
    "colab": {
      "provenance": [],
      "collapsed_sections": [
        "uMxVRrcgMMgR",
        "wlxgny0z5kUX",
        "4kFMM1F9Oupe",
        "sTVt4Q5jOxn5",
        "EA1wYh0RUnpc",
        "MVM-LEv4156Y",
        "z2bg8xQrONdG",
        "MjNEQuFXDnmK",
        "Xy_rPul0ZL__",
        "vfZPQKIWSjYj",
        "S-aGNrK7soxz",
        "_5jWm5TlPQUT",
        "C5LSh097Gq0S",
        "NvZN5pA0urtE",
        "r4kkiM87raT6",
        "j7Bwz6F0i3PA",
        "scihlQCCVH1x",
        "ly_RG3aLxEqC",
        "I1lH1JvlowfM",
        "hC1Ic1enmeTq"
      ]
    },
    "gpuClass": "standard",
    "kernelspec": {
      "display_name": "Python 3",
      "name": "python3"
    },
    "language_info": {
      "name": "python"
    }
  },
  "nbformat": 4,
  "nbformat_minor": 0
}